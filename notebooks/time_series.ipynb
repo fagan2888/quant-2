{
 "cells": [
  {
   "cell_type": "code",
   "execution_count": 1,
   "metadata": {
    "collapsed": true
   },
   "outputs": [],
   "source": [
    "import numpy as np\n",
    "import pandas as pd\n",
    "import pandas_datareader.data as web\n",
    "import seaborn as sns\n",
    "import matplotlib.pyplot as plt\n",
    "sns.set(style='ticks', context='talk')\n",
    "%matplotlib inline"
   ]
  },
  {
   "cell_type": "code",
   "execution_count": 2,
   "metadata": {
    "collapsed": false
   },
   "outputs": [
    {
     "data": {
      "text/html": [
       "<div>\n",
       "<table border=\"1\" class=\"dataframe\">\n",
       "  <thead>\n",
       "    <tr style=\"text-align: right;\">\n",
       "      <th></th>\n",
       "      <th>Open</th>\n",
       "      <th>High</th>\n",
       "      <th>Low</th>\n",
       "      <th>Close</th>\n",
       "      <th>Volume</th>\n",
       "      <th>Adj Close</th>\n",
       "    </tr>\n",
       "    <tr>\n",
       "      <th>Date</th>\n",
       "      <th></th>\n",
       "      <th></th>\n",
       "      <th></th>\n",
       "      <th></th>\n",
       "      <th></th>\n",
       "      <th></th>\n",
       "    </tr>\n",
       "  </thead>\n",
       "  <tbody>\n",
       "    <tr>\n",
       "      <th>2006-01-03</th>\n",
       "      <td>126.699997</td>\n",
       "      <td>129.440002</td>\n",
       "      <td>124.230003</td>\n",
       "      <td>128.869995</td>\n",
       "      <td>6188700</td>\n",
       "      <td>114.660688</td>\n",
       "    </tr>\n",
       "    <tr>\n",
       "      <th>2006-01-04</th>\n",
       "      <td>127.349998</td>\n",
       "      <td>128.910004</td>\n",
       "      <td>126.379997</td>\n",
       "      <td>127.089996</td>\n",
       "      <td>4861600</td>\n",
       "      <td>113.076954</td>\n",
       "    </tr>\n",
       "    <tr>\n",
       "      <th>2006-01-05</th>\n",
       "      <td>126.000000</td>\n",
       "      <td>127.320000</td>\n",
       "      <td>125.610001</td>\n",
       "      <td>127.040001</td>\n",
       "      <td>3717400</td>\n",
       "      <td>113.032471</td>\n",
       "    </tr>\n",
       "    <tr>\n",
       "      <th>2006-01-06</th>\n",
       "      <td>127.290001</td>\n",
       "      <td>129.250000</td>\n",
       "      <td>127.290001</td>\n",
       "      <td>128.839996</td>\n",
       "      <td>4319600</td>\n",
       "      <td>114.633997</td>\n",
       "    </tr>\n",
       "    <tr>\n",
       "      <th>2006-01-09</th>\n",
       "      <td>128.500000</td>\n",
       "      <td>130.619995</td>\n",
       "      <td>128.000000</td>\n",
       "      <td>130.389999</td>\n",
       "      <td>4723500</td>\n",
       "      <td>116.013096</td>\n",
       "    </tr>\n",
       "  </tbody>\n",
       "</table>\n",
       "</div>"
      ],
      "text/plain": [
       "                  Open        High         Low       Close   Volume  \\\n",
       "Date                                                                  \n",
       "2006-01-03  126.699997  129.440002  124.230003  128.869995  6188700   \n",
       "2006-01-04  127.349998  128.910004  126.379997  127.089996  4861600   \n",
       "2006-01-05  126.000000  127.320000  125.610001  127.040001  3717400   \n",
       "2006-01-06  127.290001  129.250000  127.290001  128.839996  4319600   \n",
       "2006-01-09  128.500000  130.619995  128.000000  130.389999  4723500   \n",
       "\n",
       "             Adj Close  \n",
       "Date                    \n",
       "2006-01-03  114.660688  \n",
       "2006-01-04  113.076954  \n",
       "2006-01-05  113.032471  \n",
       "2006-01-06  114.633997  \n",
       "2006-01-09  116.013096  "
      ]
     },
     "execution_count": 2,
     "metadata": {},
     "output_type": "execute_result"
    }
   ],
   "source": [
    "gs = web.DataReader(\"GS\", data_source='yahoo', start='2006-01-01', end='2010-01-01')\n",
    "gs.head()"
   ]
  },
  {
   "cell_type": "markdown",
   "metadata": {},
   "source": [
    "# Special Slicing"
   ]
  },
  {
   "cell_type": "code",
   "execution_count": 3,
   "metadata": {
    "collapsed": false
   },
   "outputs": [
    {
     "data": {
      "text/plain": [
       "Timestamp('2006-01-03 00:00:00')"
      ]
     },
     "execution_count": 3,
     "metadata": {},
     "output_type": "execute_result"
    }
   ],
   "source": [
    "gs.index[0]"
   ]
  },
  {
   "cell_type": "code",
   "execution_count": 4,
   "metadata": {
    "collapsed": false
   },
   "outputs": [
    {
     "data": {
      "text/html": [
       "<div>\n",
       "<table border=\"1\" class=\"dataframe\">\n",
       "  <thead>\n",
       "    <tr style=\"text-align: right;\">\n",
       "      <th></th>\n",
       "      <th>Open</th>\n",
       "      <th>High</th>\n",
       "      <th>Low</th>\n",
       "      <th>Close</th>\n",
       "      <th>Volume</th>\n",
       "      <th>Adj Close</th>\n",
       "    </tr>\n",
       "    <tr>\n",
       "      <th>Date</th>\n",
       "      <th></th>\n",
       "      <th></th>\n",
       "      <th></th>\n",
       "      <th></th>\n",
       "      <th></th>\n",
       "      <th></th>\n",
       "    </tr>\n",
       "  </thead>\n",
       "  <tbody>\n",
       "    <tr>\n",
       "      <th>2006-01-03</th>\n",
       "      <td>126.699997</td>\n",
       "      <td>129.440002</td>\n",
       "      <td>124.230003</td>\n",
       "      <td>128.869995</td>\n",
       "      <td>6188700</td>\n",
       "      <td>114.660688</td>\n",
       "    </tr>\n",
       "    <tr>\n",
       "      <th>2006-01-04</th>\n",
       "      <td>127.349998</td>\n",
       "      <td>128.910004</td>\n",
       "      <td>126.379997</td>\n",
       "      <td>127.089996</td>\n",
       "      <td>4861600</td>\n",
       "      <td>113.076954</td>\n",
       "    </tr>\n",
       "    <tr>\n",
       "      <th>2006-01-05</th>\n",
       "      <td>126.000000</td>\n",
       "      <td>127.320000</td>\n",
       "      <td>125.610001</td>\n",
       "      <td>127.040001</td>\n",
       "      <td>3717400</td>\n",
       "      <td>113.032471</td>\n",
       "    </tr>\n",
       "    <tr>\n",
       "      <th>2006-01-06</th>\n",
       "      <td>127.290001</td>\n",
       "      <td>129.250000</td>\n",
       "      <td>127.290001</td>\n",
       "      <td>128.839996</td>\n",
       "      <td>4319600</td>\n",
       "      <td>114.633997</td>\n",
       "    </tr>\n",
       "    <tr>\n",
       "      <th>2006-01-09</th>\n",
       "      <td>128.500000</td>\n",
       "      <td>130.619995</td>\n",
       "      <td>128.000000</td>\n",
       "      <td>130.389999</td>\n",
       "      <td>4723500</td>\n",
       "      <td>116.013096</td>\n",
       "    </tr>\n",
       "  </tbody>\n",
       "</table>\n",
       "</div>"
      ],
      "text/plain": [
       "                  Open        High         Low       Close   Volume  \\\n",
       "Date                                                                  \n",
       "2006-01-03  126.699997  129.440002  124.230003  128.869995  6188700   \n",
       "2006-01-04  127.349998  128.910004  126.379997  127.089996  4861600   \n",
       "2006-01-05  126.000000  127.320000  125.610001  127.040001  3717400   \n",
       "2006-01-06  127.290001  129.250000  127.290001  128.839996  4319600   \n",
       "2006-01-09  128.500000  130.619995  128.000000  130.389999  4723500   \n",
       "\n",
       "             Adj Close  \n",
       "Date                    \n",
       "2006-01-03  114.660688  \n",
       "2006-01-04  113.076954  \n",
       "2006-01-05  113.032471  \n",
       "2006-01-06  114.633997  \n",
       "2006-01-09  116.013096  "
      ]
     },
     "execution_count": 4,
     "metadata": {},
     "output_type": "execute_result"
    }
   ],
   "source": [
    "gs.loc[pd.Timestamp('2006-01-01'):pd.Timestamp('2006-12-31')].head()"
   ]
  },
  {
   "cell_type": "code",
   "execution_count": 6,
   "metadata": {
    "collapsed": false
   },
   "outputs": [
    {
     "data": {
      "text/html": [
       "<div>\n",
       "<table border=\"1\" class=\"dataframe\">\n",
       "  <thead>\n",
       "    <tr style=\"text-align: right;\">\n",
       "      <th></th>\n",
       "      <th>Open</th>\n",
       "      <th>High</th>\n",
       "      <th>Low</th>\n",
       "      <th>Close</th>\n",
       "      <th>Volume</th>\n",
       "      <th>Adj Close</th>\n",
       "    </tr>\n",
       "    <tr>\n",
       "      <th>Date</th>\n",
       "      <th></th>\n",
       "      <th></th>\n",
       "      <th></th>\n",
       "      <th></th>\n",
       "      <th></th>\n",
       "      <th></th>\n",
       "    </tr>\n",
       "  </thead>\n",
       "  <tbody>\n",
       "    <tr>\n",
       "      <th>2006-01-03</th>\n",
       "      <td>126.699997</td>\n",
       "      <td>129.440002</td>\n",
       "      <td>124.230003</td>\n",
       "      <td>128.869995</td>\n",
       "      <td>6188700</td>\n",
       "      <td>114.660688</td>\n",
       "    </tr>\n",
       "    <tr>\n",
       "      <th>2006-01-04</th>\n",
       "      <td>127.349998</td>\n",
       "      <td>128.910004</td>\n",
       "      <td>126.379997</td>\n",
       "      <td>127.089996</td>\n",
       "      <td>4861600</td>\n",
       "      <td>113.076954</td>\n",
       "    </tr>\n",
       "    <tr>\n",
       "      <th>2006-01-05</th>\n",
       "      <td>126.000000</td>\n",
       "      <td>127.320000</td>\n",
       "      <td>125.610001</td>\n",
       "      <td>127.040001</td>\n",
       "      <td>3717400</td>\n",
       "      <td>113.032471</td>\n",
       "    </tr>\n",
       "    <tr>\n",
       "      <th>2006-01-06</th>\n",
       "      <td>127.290001</td>\n",
       "      <td>129.250000</td>\n",
       "      <td>127.290001</td>\n",
       "      <td>128.839996</td>\n",
       "      <td>4319600</td>\n",
       "      <td>114.633997</td>\n",
       "    </tr>\n",
       "    <tr>\n",
       "      <th>2006-01-09</th>\n",
       "      <td>128.500000</td>\n",
       "      <td>130.619995</td>\n",
       "      <td>128.000000</td>\n",
       "      <td>130.389999</td>\n",
       "      <td>4723500</td>\n",
       "      <td>116.013096</td>\n",
       "    </tr>\n",
       "  </tbody>\n",
       "</table>\n",
       "</div>"
      ],
      "text/plain": [
       "                  Open        High         Low       Close   Volume  \\\n",
       "Date                                                                  \n",
       "2006-01-03  126.699997  129.440002  124.230003  128.869995  6188700   \n",
       "2006-01-04  127.349998  128.910004  126.379997  127.089996  4861600   \n",
       "2006-01-05  126.000000  127.320000  125.610001  127.040001  3717400   \n",
       "2006-01-06  127.290001  129.250000  127.290001  128.839996  4319600   \n",
       "2006-01-09  128.500000  130.619995  128.000000  130.389999  4723500   \n",
       "\n",
       "             Adj Close  \n",
       "Date                    \n",
       "2006-01-03  114.660688  \n",
       "2006-01-04  113.076954  \n",
       "2006-01-05  113.032471  \n",
       "2006-01-06  114.633997  \n",
       "2006-01-09  116.013096  "
      ]
     },
     "execution_count": 6,
     "metadata": {},
     "output_type": "execute_result"
    }
   ],
   "source": [
    "gs.loc['2006'].head()"
   ]
  },
  {
   "cell_type": "markdown",
   "metadata": {},
   "source": [
    "# Special Methods"
   ]
  },
  {
   "cell_type": "markdown",
   "metadata": {},
   "source": [
    "**Resampling**"
   ]
  },
  {
   "cell_type": "code",
   "execution_count": 7,
   "metadata": {
    "collapsed": false
   },
   "outputs": [
    {
     "data": {
      "text/html": [
       "<div>\n",
       "<table border=\"1\" class=\"dataframe\">\n",
       "  <thead>\n",
       "    <tr style=\"text-align: right;\">\n",
       "      <th></th>\n",
       "      <th>Open</th>\n",
       "      <th>High</th>\n",
       "      <th>Low</th>\n",
       "      <th>Close</th>\n",
       "      <th>Volume</th>\n",
       "      <th>Adj Close</th>\n",
       "    </tr>\n",
       "    <tr>\n",
       "      <th>Date</th>\n",
       "      <th></th>\n",
       "      <th></th>\n",
       "      <th></th>\n",
       "      <th></th>\n",
       "      <th></th>\n",
       "      <th></th>\n",
       "    </tr>\n",
       "  </thead>\n",
       "  <tbody>\n",
       "    <tr>\n",
       "      <th>2006-01-03</th>\n",
       "      <td>126.834999</td>\n",
       "      <td>128.730002</td>\n",
       "      <td>125.877501</td>\n",
       "      <td>127.959997</td>\n",
       "      <td>4771825</td>\n",
       "      <td>113.851027</td>\n",
       "    </tr>\n",
       "    <tr>\n",
       "      <th>2006-01-08</th>\n",
       "      <td>130.349998</td>\n",
       "      <td>132.645000</td>\n",
       "      <td>130.205002</td>\n",
       "      <td>131.660000</td>\n",
       "      <td>4664300</td>\n",
       "      <td>117.143065</td>\n",
       "    </tr>\n",
       "    <tr>\n",
       "      <th>2006-01-13</th>\n",
       "      <td>131.510002</td>\n",
       "      <td>133.395005</td>\n",
       "      <td>131.244995</td>\n",
       "      <td>132.924995</td>\n",
       "      <td>3258250</td>\n",
       "      <td>118.268581</td>\n",
       "    </tr>\n",
       "    <tr>\n",
       "      <th>2006-01-18</th>\n",
       "      <td>132.210002</td>\n",
       "      <td>133.853333</td>\n",
       "      <td>131.656667</td>\n",
       "      <td>132.543335</td>\n",
       "      <td>4997766</td>\n",
       "      <td>118.001965</td>\n",
       "    </tr>\n",
       "    <tr>\n",
       "      <th>2006-01-23</th>\n",
       "      <td>133.771997</td>\n",
       "      <td>136.083997</td>\n",
       "      <td>133.310001</td>\n",
       "      <td>135.153998</td>\n",
       "      <td>3968500</td>\n",
       "      <td>120.476883</td>\n",
       "    </tr>\n",
       "  </tbody>\n",
       "</table>\n",
       "</div>"
      ],
      "text/plain": [
       "                  Open        High         Low       Close   Volume  \\\n",
       "Date                                                                  \n",
       "2006-01-03  126.834999  128.730002  125.877501  127.959997  4771825   \n",
       "2006-01-08  130.349998  132.645000  130.205002  131.660000  4664300   \n",
       "2006-01-13  131.510002  133.395005  131.244995  132.924995  3258250   \n",
       "2006-01-18  132.210002  133.853333  131.656667  132.543335  4997766   \n",
       "2006-01-23  133.771997  136.083997  133.310001  135.153998  3968500   \n",
       "\n",
       "             Adj Close  \n",
       "Date                    \n",
       "2006-01-03  113.851027  \n",
       "2006-01-08  117.143065  \n",
       "2006-01-13  118.268581  \n",
       "2006-01-18  118.001965  \n",
       "2006-01-23  120.476883  "
      ]
     },
     "execution_count": 7,
     "metadata": {},
     "output_type": "execute_result"
    }
   ],
   "source": [
    "gs.resample('5d').mean().head()"
   ]
  },
  {
   "cell_type": "code",
   "execution_count": 8,
   "metadata": {
    "collapsed": false
   },
   "outputs": [
    {
     "data": {
      "text/html": [
       "<div>\n",
       "<table border=\"1\" class=\"dataframe\">\n",
       "  <thead>\n",
       "    <tr>\n",
       "      <th></th>\n",
       "      <th colspan=\"2\" halign=\"left\">Open</th>\n",
       "      <th colspan=\"2\" halign=\"left\">High</th>\n",
       "      <th colspan=\"2\" halign=\"left\">Low</th>\n",
       "      <th colspan=\"2\" halign=\"left\">Close</th>\n",
       "      <th colspan=\"2\" halign=\"left\">Volume</th>\n",
       "      <th colspan=\"2\" halign=\"left\">Adj Close</th>\n",
       "    </tr>\n",
       "    <tr>\n",
       "      <th></th>\n",
       "      <th>mean</th>\n",
       "      <th>sum</th>\n",
       "      <th>mean</th>\n",
       "      <th>sum</th>\n",
       "      <th>mean</th>\n",
       "      <th>sum</th>\n",
       "      <th>mean</th>\n",
       "      <th>sum</th>\n",
       "      <th>mean</th>\n",
       "      <th>sum</th>\n",
       "      <th>mean</th>\n",
       "      <th>sum</th>\n",
       "    </tr>\n",
       "    <tr>\n",
       "      <th>Date</th>\n",
       "      <th></th>\n",
       "      <th></th>\n",
       "      <th></th>\n",
       "      <th></th>\n",
       "      <th></th>\n",
       "      <th></th>\n",
       "      <th></th>\n",
       "      <th></th>\n",
       "      <th></th>\n",
       "      <th></th>\n",
       "      <th></th>\n",
       "      <th></th>\n",
       "    </tr>\n",
       "  </thead>\n",
       "  <tbody>\n",
       "    <tr>\n",
       "      <th>2006-01-08</th>\n",
       "      <td>126.834999</td>\n",
       "      <td>507.339996</td>\n",
       "      <td>128.730002</td>\n",
       "      <td>514.920006</td>\n",
       "      <td>125.877501</td>\n",
       "      <td>503.510002</td>\n",
       "      <td>127.959997</td>\n",
       "      <td>511.839988</td>\n",
       "      <td>4771825</td>\n",
       "      <td>19087300</td>\n",
       "      <td>113.851027</td>\n",
       "      <td>455.404110</td>\n",
       "    </tr>\n",
       "    <tr>\n",
       "      <th>2006-01-15</th>\n",
       "      <td>130.684000</td>\n",
       "      <td>653.419998</td>\n",
       "      <td>132.848001</td>\n",
       "      <td>664.240006</td>\n",
       "      <td>130.544000</td>\n",
       "      <td>652.720001</td>\n",
       "      <td>131.979999</td>\n",
       "      <td>659.899994</td>\n",
       "      <td>4310420</td>\n",
       "      <td>21552100</td>\n",
       "      <td>117.427781</td>\n",
       "      <td>587.138903</td>\n",
       "    </tr>\n",
       "    <tr>\n",
       "      <th>2006-01-22</th>\n",
       "      <td>131.907501</td>\n",
       "      <td>527.630005</td>\n",
       "      <td>133.672501</td>\n",
       "      <td>534.690003</td>\n",
       "      <td>131.389999</td>\n",
       "      <td>525.559998</td>\n",
       "      <td>132.555000</td>\n",
       "      <td>530.220000</td>\n",
       "      <td>4653725</td>\n",
       "      <td>18614900</td>\n",
       "      <td>117.994103</td>\n",
       "      <td>471.976414</td>\n",
       "    </tr>\n",
       "    <tr>\n",
       "      <th>2006-01-29</th>\n",
       "      <td>133.771997</td>\n",
       "      <td>668.859986</td>\n",
       "      <td>136.083997</td>\n",
       "      <td>680.419983</td>\n",
       "      <td>133.310001</td>\n",
       "      <td>666.550003</td>\n",
       "      <td>135.153998</td>\n",
       "      <td>675.769989</td>\n",
       "      <td>3968500</td>\n",
       "      <td>19842500</td>\n",
       "      <td>120.476883</td>\n",
       "      <td>602.384416</td>\n",
       "    </tr>\n",
       "    <tr>\n",
       "      <th>2006-02-05</th>\n",
       "      <td>140.900000</td>\n",
       "      <td>704.500000</td>\n",
       "      <td>142.467999</td>\n",
       "      <td>712.339996</td>\n",
       "      <td>139.937998</td>\n",
       "      <td>699.689988</td>\n",
       "      <td>141.618002</td>\n",
       "      <td>708.090011</td>\n",
       "      <td>3920120</td>\n",
       "      <td>19600600</td>\n",
       "      <td>126.238926</td>\n",
       "      <td>631.194630</td>\n",
       "    </tr>\n",
       "  </tbody>\n",
       "</table>\n",
       "</div>"
      ],
      "text/plain": [
       "                  Open                    High                     Low  \\\n",
       "                  mean         sum        mean         sum        mean   \n",
       "Date                                                                     \n",
       "2006-01-08  126.834999  507.339996  128.730002  514.920006  125.877501   \n",
       "2006-01-15  130.684000  653.419998  132.848001  664.240006  130.544000   \n",
       "2006-01-22  131.907501  527.630005  133.672501  534.690003  131.389999   \n",
       "2006-01-29  133.771997  668.859986  136.083997  680.419983  133.310001   \n",
       "2006-02-05  140.900000  704.500000  142.467999  712.339996  139.937998   \n",
       "\n",
       "                             Close               Volume             Adj Close  \\\n",
       "                   sum        mean         sum     mean       sum        mean   \n",
       "Date                                                                            \n",
       "2006-01-08  503.510002  127.959997  511.839988  4771825  19087300  113.851027   \n",
       "2006-01-15  652.720001  131.979999  659.899994  4310420  21552100  117.427781   \n",
       "2006-01-22  525.559998  132.555000  530.220000  4653725  18614900  117.994103   \n",
       "2006-01-29  666.550003  135.153998  675.769989  3968500  19842500  120.476883   \n",
       "2006-02-05  699.689988  141.618002  708.090011  3920120  19600600  126.238926   \n",
       "\n",
       "                        \n",
       "                   sum  \n",
       "Date                    \n",
       "2006-01-08  455.404110  \n",
       "2006-01-15  587.138903  \n",
       "2006-01-22  471.976414  \n",
       "2006-01-29  602.384416  \n",
       "2006-02-05  631.194630  "
      ]
     },
     "execution_count": 8,
     "metadata": {},
     "output_type": "execute_result"
    }
   ],
   "source": [
    "gs.resample('W').agg(['mean', 'sum']).head()"
   ]
  },
  {
   "cell_type": "code",
   "execution_count": 9,
   "metadata": {
    "collapsed": false
   },
   "outputs": [
    {
     "data": {
      "text/html": [
       "<div>\n",
       "<table border=\"1\" class=\"dataframe\">\n",
       "  <thead>\n",
       "    <tr style=\"text-align: right;\">\n",
       "      <th></th>\n",
       "      <th>Open</th>\n",
       "      <th>High</th>\n",
       "      <th>Low</th>\n",
       "      <th>Close</th>\n",
       "      <th>Volume</th>\n",
       "      <th>Adj Close</th>\n",
       "    </tr>\n",
       "    <tr>\n",
       "      <th>Date</th>\n",
       "      <th></th>\n",
       "      <th></th>\n",
       "      <th></th>\n",
       "      <th></th>\n",
       "      <th></th>\n",
       "      <th></th>\n",
       "    </tr>\n",
       "  </thead>\n",
       "  <tbody>\n",
       "    <tr>\n",
       "      <th>2006-01-03 00:00:00</th>\n",
       "      <td>126.699997</td>\n",
       "      <td>129.440002</td>\n",
       "      <td>124.230003</td>\n",
       "      <td>128.869995</td>\n",
       "      <td>6188700.0</td>\n",
       "      <td>114.660688</td>\n",
       "    </tr>\n",
       "    <tr>\n",
       "      <th>2006-01-03 06:00:00</th>\n",
       "      <td>NaN</td>\n",
       "      <td>NaN</td>\n",
       "      <td>NaN</td>\n",
       "      <td>NaN</td>\n",
       "      <td>NaN</td>\n",
       "      <td>NaN</td>\n",
       "    </tr>\n",
       "    <tr>\n",
       "      <th>2006-01-03 12:00:00</th>\n",
       "      <td>NaN</td>\n",
       "      <td>NaN</td>\n",
       "      <td>NaN</td>\n",
       "      <td>NaN</td>\n",
       "      <td>NaN</td>\n",
       "      <td>NaN</td>\n",
       "    </tr>\n",
       "    <tr>\n",
       "      <th>2006-01-03 18:00:00</th>\n",
       "      <td>NaN</td>\n",
       "      <td>NaN</td>\n",
       "      <td>NaN</td>\n",
       "      <td>NaN</td>\n",
       "      <td>NaN</td>\n",
       "      <td>NaN</td>\n",
       "    </tr>\n",
       "    <tr>\n",
       "      <th>2006-01-04 00:00:00</th>\n",
       "      <td>127.349998</td>\n",
       "      <td>128.910004</td>\n",
       "      <td>126.379997</td>\n",
       "      <td>127.089996</td>\n",
       "      <td>4861600.0</td>\n",
       "      <td>113.076954</td>\n",
       "    </tr>\n",
       "  </tbody>\n",
       "</table>\n",
       "</div>"
      ],
      "text/plain": [
       "                           Open        High         Low       Close  \\\n",
       "Date                                                                  \n",
       "2006-01-03 00:00:00  126.699997  129.440002  124.230003  128.869995   \n",
       "2006-01-03 06:00:00         NaN         NaN         NaN         NaN   \n",
       "2006-01-03 12:00:00         NaN         NaN         NaN         NaN   \n",
       "2006-01-03 18:00:00         NaN         NaN         NaN         NaN   \n",
       "2006-01-04 00:00:00  127.349998  128.910004  126.379997  127.089996   \n",
       "\n",
       "                        Volume   Adj Close  \n",
       "Date                                        \n",
       "2006-01-03 00:00:00  6188700.0  114.660688  \n",
       "2006-01-03 06:00:00        NaN         NaN  \n",
       "2006-01-03 12:00:00        NaN         NaN  \n",
       "2006-01-03 18:00:00        NaN         NaN  \n",
       "2006-01-04 00:00:00  4861600.0  113.076954  "
      ]
     },
     "execution_count": 9,
     "metadata": {},
     "output_type": "execute_result"
    }
   ],
   "source": [
    "gs.resample('6H').mean().head()"
   ]
  },
  {
   "cell_type": "markdown",
   "metadata": {},
   "source": [
    "**Rolling / Expanding / EW**"
   ]
  },
  {
   "cell_type": "code",
   "execution_count": 10,
   "metadata": {
    "collapsed": false
   },
   "outputs": [
    {
     "data": {
      "image/png": "[encoded data removed]",
      "text/plain": [
       "<matplotlib.figure.Figure at 0x103990390>"
      ]
     },
     "metadata": {},
     "output_type": "display_data"
    }
   ],
   "source": [
    "gs.Close.plot(label='Raw')\n",
    "gs.Close.rolling(28).mean().plot(label='28D MA')\n",
    "gs.Close.expanding().mean().plot(label='Expanding')\n",
    "gs.Close.ewm(alpha=0.03).mean().plot(label='EWMA($\\\\alpha=.03$)')\n",
    "plt.legend(bbox_to_anchor=(1.25, .5))\n",
    "plt.tight_layout()\n",
    "sns.despine()"
   ]
  },
  {
   "cell_type": "code",
   "execution_count": 11,
   "metadata": {
    "collapsed": false
   },
   "outputs": [
    {
     "data": {
      "text/plain": [
       "Rolling [window=30,center=True,axis=0]"
      ]
     },
     "execution_count": 11,
     "metadata": {},
     "output_type": "execute_result"
    }
   ],
   "source": [
    "roll = gs.Close.rolling(30, center=True)\n",
    "roll"
   ]
  },
  {
   "cell_type": "code",
   "execution_count": 12,
   "metadata": {
    "collapsed": false
   },
   "outputs": [
    {
     "data": {
      "image/png": "[encoded data removed]",
      "text/plain": [
       "<matplotlib.figure.Figure at 0x10beb2dd8>"
      ]
     },
     "metadata": {},
     "output_type": "display_data"
    }
   ],
   "source": [
    "m = roll.agg(['mean', 'std'])\n",
    "ax = m['mean'].plot()\n",
    "ax.fill_between(m.index, m['mean'] - m['std'], m['mean'] + m['std'], alpha=.25)\n",
    "plt.tight_layout()\n",
    "sns.despine()"
   ]
  },
  {
   "cell_type": "markdown",
   "metadata": {},
   "source": [
    "# Grab Bag"
   ]
  },
  {
   "cell_type": "markdown",
   "metadata": {},
   "source": [
    "**Offsets**"
   ]
  },
  {
   "cell_type": "code",
   "execution_count": 13,
   "metadata": {
    "collapsed": false
   },
   "outputs": [
    {
     "data": {
      "text/plain": [
       "DatetimeIndex(['2006-04-01', '2006-04-02', '2006-04-03', '2006-04-04',\n",
       "               '2006-04-07', '2006-04-08', '2006-04-09', '2006-04-10',\n",
       "               '2006-04-11', '2006-04-15',\n",
       "               ...\n",
       "               '2010-03-15', '2010-03-16', '2010-03-19', '2010-03-20',\n",
       "               '2010-03-21', '2010-03-22', '2010-03-26', '2010-03-27',\n",
       "               '2010-03-28', '2010-03-29'],\n",
       "              dtype='datetime64[ns]', name='Date', length=1007, freq=None)"
      ]
     },
     "execution_count": 13,
     "metadata": {},
     "output_type": "execute_result"
    }
   ],
   "source": [
    "gs.index + pd.DateOffset(months=3, days=-2)"
   ]
  },
  {
   "cell_type": "markdown",
   "metadata": {},
   "source": [
    "**Holiday Calendars**"
   ]
  },
  {
   "cell_type": "code",
   "execution_count": 14,
   "metadata": {
    "collapsed": true
   },
   "outputs": [],
   "source": [
    "from pandas.tseries.holiday import USColumbusDay"
   ]
  },
  {
   "cell_type": "code",
   "execution_count": 16,
   "metadata": {
    "collapsed": false
   },
   "outputs": [
    {
     "data": {
      "text/plain": [
       "DatetimeIndex(['2015-10-12', '2016-10-10', '2017-10-09', '2018-10-08',\n",
       "               '2019-10-14'],\n",
       "              dtype='datetime64[ns]', freq='WOM-2MON')"
      ]
     },
     "execution_count": 16,
     "metadata": {},
     "output_type": "execute_result"
    }
   ],
   "source": [
    "USColumbusDay.dates('2015-01-01', '2020-01-01')"
   ]
  },
  {
   "cell_type": "markdown",
   "metadata": {},
   "source": [
    "**Timezones**"
   ]
  },
  {
   "cell_type": "markdown",
   "metadata": {},
   "source": [
    "1. localize timezone-naive timestamps to some timezone\n",
    "\n",
    "2. convert to desired timezone\n",
    "\n",
    "If you already have timezone-aware Timestamps, there's no need for step one."
   ]
  },
  {
   "cell_type": "code",
   "execution_count": 17,
   "metadata": {
    "collapsed": false
   },
   "outputs": [
    {
     "data": {
      "text/html": [
       "<div>\n",
       "<table border=\"1\" class=\"dataframe\">\n",
       "  <thead>\n",
       "    <tr style=\"text-align: right;\">\n",
       "      <th></th>\n",
       "      <th>Open</th>\n",
       "      <th>High</th>\n",
       "      <th>Low</th>\n",
       "      <th>Close</th>\n",
       "      <th>Volume</th>\n",
       "      <th>Adj Close</th>\n",
       "    </tr>\n",
       "    <tr>\n",
       "      <th>Date</th>\n",
       "      <th></th>\n",
       "      <th></th>\n",
       "      <th></th>\n",
       "      <th></th>\n",
       "      <th></th>\n",
       "      <th></th>\n",
       "    </tr>\n",
       "  </thead>\n",
       "  <tbody>\n",
       "    <tr>\n",
       "      <th>2006-01-03 05:00:00+00:00</th>\n",
       "      <td>126.699997</td>\n",
       "      <td>129.440002</td>\n",
       "      <td>124.230003</td>\n",
       "      <td>128.869995</td>\n",
       "      <td>6188700</td>\n",
       "      <td>114.660688</td>\n",
       "    </tr>\n",
       "    <tr>\n",
       "      <th>2006-01-04 05:00:00+00:00</th>\n",
       "      <td>127.349998</td>\n",
       "      <td>128.910004</td>\n",
       "      <td>126.379997</td>\n",
       "      <td>127.089996</td>\n",
       "      <td>4861600</td>\n",
       "      <td>113.076954</td>\n",
       "    </tr>\n",
       "    <tr>\n",
       "      <th>2006-01-05 05:00:00+00:00</th>\n",
       "      <td>126.000000</td>\n",
       "      <td>127.320000</td>\n",
       "      <td>125.610001</td>\n",
       "      <td>127.040001</td>\n",
       "      <td>3717400</td>\n",
       "      <td>113.032471</td>\n",
       "    </tr>\n",
       "    <tr>\n",
       "      <th>2006-01-06 05:00:00+00:00</th>\n",
       "      <td>127.290001</td>\n",
       "      <td>129.250000</td>\n",
       "      <td>127.290001</td>\n",
       "      <td>128.839996</td>\n",
       "      <td>4319600</td>\n",
       "      <td>114.633997</td>\n",
       "    </tr>\n",
       "    <tr>\n",
       "      <th>2006-01-09 05:00:00+00:00</th>\n",
       "      <td>128.500000</td>\n",
       "      <td>130.619995</td>\n",
       "      <td>128.000000</td>\n",
       "      <td>130.389999</td>\n",
       "      <td>4723500</td>\n",
       "      <td>116.013096</td>\n",
       "    </tr>\n",
       "  </tbody>\n",
       "</table>\n",
       "</div>"
      ],
      "text/plain": [
       "                                 Open        High         Low       Close  \\\n",
       "Date                                                                        \n",
       "2006-01-03 05:00:00+00:00  126.699997  129.440002  124.230003  128.869995   \n",
       "2006-01-04 05:00:00+00:00  127.349998  128.910004  126.379997  127.089996   \n",
       "2006-01-05 05:00:00+00:00  126.000000  127.320000  125.610001  127.040001   \n",
       "2006-01-06 05:00:00+00:00  127.290001  129.250000  127.290001  128.839996   \n",
       "2006-01-09 05:00:00+00:00  128.500000  130.619995  128.000000  130.389999   \n",
       "\n",
       "                            Volume   Adj Close  \n",
       "Date                                            \n",
       "2006-01-03 05:00:00+00:00  6188700  114.660688  \n",
       "2006-01-04 05:00:00+00:00  4861600  113.076954  \n",
       "2006-01-05 05:00:00+00:00  3717400  113.032471  \n",
       "2006-01-06 05:00:00+00:00  4319600  114.633997  \n",
       "2006-01-09 05:00:00+00:00  4723500  116.013096  "
      ]
     },
     "execution_count": 17,
     "metadata": {},
     "output_type": "execute_result"
    }
   ],
   "source": [
    "# tz naiive -> tz aware..... to desired UTC\n",
    "gs.tz_localize('US/Eastern').tz_convert('UTC').head()"
   ]
  }
 ],
 "metadata": {
  "kernelspec": {
   "display_name": "Python 3",
   "language": "python",
   "name": "python3"
  },
  "language_info": {
   "codemirror_mode": {
    "name": "ipython",
    "version": 3
   },
   "file_extension": ".py",
   "mimetype": "text/x-python",
   "name": "python",
   "nbconvert_exporter": "python",
   "pygments_lexer": "ipython3",
   "version": "3.5.1"
  }
 },
 "nbformat": 4,
 "nbformat_minor": 0
}
