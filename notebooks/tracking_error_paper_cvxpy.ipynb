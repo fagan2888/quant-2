{
 "cells": [
  {
   "cell_type": "markdown",
   "metadata": {},
   "source": [
    "# Paper: Tracking Error Rebalancing\n",
    "http://www.iijournals.com/doi/abs/10.3905/jpm.2011.37.4.054?journalCode=jpm"
   ]
  },
  {
   "cell_type": "markdown",
   "metadata": {},
   "source": [
    "<img src=\"files/tracking_error_opt.png\">"
   ]
  },
  {
   "cell_type": "code",
   "execution_count": 1,
   "metadata": {
    "collapsed": false
   },
   "outputs": [],
   "source": [
    "import pandas as pd\n",
    "import numpy as np\n",
    "import collections\n",
    "\n",
    "import math\n",
    "import cvxpy"
   ]
  },
  {
   "cell_type": "code",
   "execution_count": 2,
   "metadata": {
    "collapsed": true
   },
   "outputs": [],
   "source": [
    "def corr2cov(corr, std):\n",
    "    '''convert correlation matrix to covariance matrix given standard deviation\n",
    "\n",
    "    Parameters\n",
    "    ----------\n",
    "    corr : array_like, 2d\n",
    "        correlation matrix, see Notes\n",
    "    std : array_like, 1d\n",
    "        standard deviation\n",
    "\n",
    "    Returns\n",
    "    -------\n",
    "    cov : ndarray (subclass)\n",
    "        covariance matrix\n",
    "\n",
    "    Notes\n",
    "    -----\n",
    "    This function does not convert subclasses of ndarrays. This requires\n",
    "    that multiplication is defined elementwise. np.ma.array are allowed, but\n",
    "    not matrices.\n",
    "\n",
    "    '''\n",
    "    corr = np.asanyarray(corr)\n",
    "    std_ = np.asanyarray(std)\n",
    "    cov = corr * np.outer(std_, std_)\n",
    "    return cov"
   ]
  },
  {
   "cell_type": "markdown",
   "metadata": {},
   "source": [
    "# Example data from the paper"
   ]
  },
  {
   "cell_type": "code",
   "execution_count": 3,
   "metadata": {
    "collapsed": true
   },
   "outputs": [],
   "source": [
    "d = collections.OrderedDict()"
   ]
  },
  {
   "cell_type": "code",
   "execution_count": 4,
   "metadata": {
    "collapsed": true
   },
   "outputs": [],
   "source": [
    "d = {'us_equity': {'weight': 0.39, 'policy': 0.45, 'expected_risk': 0.1975, 'costs': 0.003},\n",
    "     'non_us_equity': {'weight': 0.158, 'policy': 0.2, 'expected_risk': 0.24, 'costs': 0.005},\n",
    "     'fixed_income': {'weight': 0.293, 'policy': 0.2, 'expected_risk': 0.0525, 'costs': 0.025},\n",
    "     'tips': {'weight': 0.068, 'policy': 0.05, 'expected_risk': 0.0975, 'costs': 0.003},\n",
    "     'privaty_equity': {'weight': 0.046, 'policy': 0.05, 'expected_risk': 0.24, 'costs': 1.0},\n",
    "     'real_state': {'weight': 0.043, 'policy': 0.05, 'expected_risk': 0.37, 'costs': 0.003}\n",
    "    }"
   ]
  },
  {
   "cell_type": "code",
   "execution_count": 5,
   "metadata": {
    "collapsed": false
   },
   "outputs": [],
   "source": [
    "correlation = np.array([[1.0,0.95,0.15,0.45,0.95,0.8],\n",
    "                       [0.95,1.0,0.3,0.55,0.85,0.7],\n",
    "                       [0.15,0.3,1.0,0.8,0.15,0.2],\n",
    "                       [0.45,0.55,0.8,1.0,0.45,0.5],\n",
    "                       [0.95,0.85,0.15,0.45,1.0,0.9],\n",
    "                       [0.8,0.7,0.2,0.5,0.9,1.0]])"
   ]
  },
  {
   "cell_type": "code",
   "execution_count": 6,
   "metadata": {
    "collapsed": false
   },
   "outputs": [
    {
     "data": {
      "text/plain": [
       "array([[ 1.  ,  0.95,  0.15,  0.45,  0.95,  0.8 ],\n",
       "       [ 0.95,  1.  ,  0.3 ,  0.55,  0.85,  0.7 ],\n",
       "       [ 0.15,  0.3 ,  1.  ,  0.8 ,  0.15,  0.2 ],\n",
       "       [ 0.45,  0.55,  0.8 ,  1.  ,  0.45,  0.5 ],\n",
       "       [ 0.95,  0.85,  0.15,  0.45,  1.  ,  0.9 ],\n",
       "       [ 0.8 ,  0.7 ,  0.2 ,  0.5 ,  0.9 ,  1.  ]])"
      ]
     },
     "execution_count": 6,
     "metadata": {},
     "output_type": "execute_result"
    }
   ],
   "source": [
    "correlation"
   ]
  },
  {
   "cell_type": "code",
   "execution_count": 7,
   "metadata": {
    "collapsed": false
   },
   "outputs": [],
   "source": [
    "df = pd.DataFrame.from_dict(d, orient='index')\n",
    "df = df.reindex(index=['us_equity', 'non_us_equity', 'fixed_income', 'tips', 'privaty_equity', 'real_state'])"
   ]
  },
  {
   "cell_type": "code",
   "execution_count": 8,
   "metadata": {
    "collapsed": false
   },
   "outputs": [
    {
     "data": {
      "text/html": [
       "<div>\n",
       "<table border=\"1\" class=\"dataframe\">\n",
       "  <thead>\n",
       "    <tr style=\"text-align: right;\">\n",
       "      <th></th>\n",
       "      <th>expected_risk</th>\n",
       "      <th>costs</th>\n",
       "      <th>weight</th>\n",
       "      <th>policy</th>\n",
       "    </tr>\n",
       "  </thead>\n",
       "  <tbody>\n",
       "    <tr>\n",
       "      <th>us_equity</th>\n",
       "      <td>0.1975</td>\n",
       "      <td>0.003</td>\n",
       "      <td>0.390</td>\n",
       "      <td>0.45</td>\n",
       "    </tr>\n",
       "    <tr>\n",
       "      <th>non_us_equity</th>\n",
       "      <td>0.2400</td>\n",
       "      <td>0.005</td>\n",
       "      <td>0.158</td>\n",
       "      <td>0.20</td>\n",
       "    </tr>\n",
       "    <tr>\n",
       "      <th>fixed_income</th>\n",
       "      <td>0.0525</td>\n",
       "      <td>0.025</td>\n",
       "      <td>0.293</td>\n",
       "      <td>0.20</td>\n",
       "    </tr>\n",
       "    <tr>\n",
       "      <th>tips</th>\n",
       "      <td>0.0975</td>\n",
       "      <td>0.003</td>\n",
       "      <td>0.068</td>\n",
       "      <td>0.05</td>\n",
       "    </tr>\n",
       "    <tr>\n",
       "      <th>privaty_equity</th>\n",
       "      <td>0.2400</td>\n",
       "      <td>1.000</td>\n",
       "      <td>0.046</td>\n",
       "      <td>0.05</td>\n",
       "    </tr>\n",
       "    <tr>\n",
       "      <th>real_state</th>\n",
       "      <td>0.3700</td>\n",
       "      <td>0.003</td>\n",
       "      <td>0.043</td>\n",
       "      <td>0.05</td>\n",
       "    </tr>\n",
       "  </tbody>\n",
       "</table>\n",
       "</div>"
      ],
      "text/plain": [
       "                expected_risk  costs  weight  policy\n",
       "us_equity              0.1975  0.003   0.390    0.45\n",
       "non_us_equity          0.2400  0.005   0.158    0.20\n",
       "fixed_income           0.0525  0.025   0.293    0.20\n",
       "tips                   0.0975  0.003   0.068    0.05\n",
       "privaty_equity         0.2400  1.000   0.046    0.05\n",
       "real_state             0.3700  0.003   0.043    0.05"
      ]
     },
     "execution_count": 8,
     "metadata": {},
     "output_type": "execute_result"
    }
   ],
   "source": [
    "df"
   ]
  },
  {
   "cell_type": "code",
   "execution_count": 9,
   "metadata": {
    "collapsed": false
   },
   "outputs": [],
   "source": [
    "cov_m = corr2cov(correlation, df['expected_risk'])"
   ]
  },
  {
   "cell_type": "code",
   "execution_count": 10,
   "metadata": {
    "collapsed": false
   },
   "outputs": [
    {
     "data": {
      "text/plain": [
       "array([[ 0.03900625,  0.04503   ,  0.00155531,  0.00866531,  0.04503   ,\n",
       "         0.05846   ],\n",
       "       [ 0.04503   ,  0.0576    ,  0.00378   ,  0.01287   ,  0.04896   ,\n",
       "         0.06216   ],\n",
       "       [ 0.00155531,  0.00378   ,  0.00275625,  0.004095  ,  0.00189   ,\n",
       "         0.003885  ],\n",
       "       [ 0.00866531,  0.01287   ,  0.004095  ,  0.00950625,  0.01053   ,\n",
       "         0.0180375 ],\n",
       "       [ 0.04503   ,  0.04896   ,  0.00189   ,  0.01053   ,  0.0576    ,\n",
       "         0.07992   ],\n",
       "       [ 0.05846   ,  0.06216   ,  0.003885  ,  0.0180375 ,  0.07992   ,\n",
       "         0.1369    ]])"
      ]
     },
     "execution_count": 10,
     "metadata": {},
     "output_type": "execute_result"
    }
   ],
   "source": [
    "cov_m"
   ]
  },
  {
   "cell_type": "code",
   "execution_count": 11,
   "metadata": {
    "collapsed": false
   },
   "outputs": [
    {
     "data": {
      "text/plain": [
       "array([-0.06 , -0.042,  0.093,  0.018, -0.004, -0.007])"
      ]
     },
     "execution_count": 11,
     "metadata": {},
     "output_type": "execute_result"
    }
   ],
   "source": [
    "h1_b = df['weight']-df['policy']\n",
    "h1_b.values"
   ]
  },
  {
   "cell_type": "markdown",
   "metadata": {
    "collapsed": true
   },
   "source": [
    "Replicating tracking error of the example: 2.3%"
   ]
  },
  {
   "cell_type": "code",
   "execution_count": 12,
   "metadata": {
    "collapsed": false
   },
   "outputs": [
    {
     "name": "stdout",
     "output_type": "stream",
     "text": [
      "0.02340611648159515\n"
     ]
    }
   ],
   "source": [
    "print(math.sqrt(np.dot(np.dot(h1_b.values,cov_m),h1_b.values)))"
   ]
  },
  {
   "cell_type": "markdown",
   "metadata": {},
   "source": [
    "# Extracting variables and parameters for the optimization"
   ]
  },
  {
   "cell_type": "code",
   "execution_count": 13,
   "metadata": {
    "collapsed": false
   },
   "outputs": [],
   "source": [
    "n = len(df['weight'].values)"
   ]
  },
  {
   "cell_type": "code",
   "execution_count": 14,
   "metadata": {
    "collapsed": false
   },
   "outputs": [],
   "source": [
    "h1 = cvxpy.Variable(n)"
   ]
  },
  {
   "cell_type": "code",
   "execution_count": 15,
   "metadata": {
    "collapsed": false
   },
   "outputs": [],
   "source": [
    "h0 = df['weight'].values"
   ]
  },
  {
   "cell_type": "code",
   "execution_count": 16,
   "metadata": {
    "collapsed": true
   },
   "outputs": [],
   "source": [
    "b = df['policy'].values"
   ]
  },
  {
   "cell_type": "code",
   "execution_count": 17,
   "metadata": {
    "collapsed": false
   },
   "outputs": [],
   "source": [
    "V = cov_m"
   ]
  },
  {
   "cell_type": "code",
   "execution_count": 18,
   "metadata": {
    "collapsed": false
   },
   "outputs": [],
   "source": [
    "TC =  df['costs'].values"
   ]
  },
  {
   "cell_type": "code",
   "execution_count": 19,
   "metadata": {
    "collapsed": false,
    "scrolled": true
   },
   "outputs": [],
   "source": [
    "obj_func = cvxpy.Minimize(cvxpy.abs(h1-h0).T*TC)"
   ]
  },
  {
   "cell_type": "code",
   "execution_count": 20,
   "metadata": {
    "collapsed": false
   },
   "outputs": [],
   "source": [
    "c2 = cvxpy.sum_entries(h1) == 1.0"
   ]
  },
  {
   "cell_type": "code",
   "execution_count": 21,
   "metadata": {
    "collapsed": true
   },
   "outputs": [],
   "source": [
    "c3 = (h1 >= 0)"
   ]
  },
  {
   "cell_type": "code",
   "execution_count": 22,
   "metadata": {
    "collapsed": true
   },
   "outputs": [],
   "source": [
    "# Problem with the next constraint. It looks like its not convex."
   ]
  },
  {
   "cell_type": "code",
   "execution_count": 23,
   "metadata": {
    "collapsed": false
   },
   "outputs": [],
   "source": [
    "#c1 = (cvxpy.sqrt( ((h1-b).T*V)*h1-b ) <= 0.01)"
   ]
  },
  {
   "cell_type": "code",
   "execution_count": 24,
   "metadata": {
    "collapsed": true
   },
   "outputs": [],
   "source": [
    "# another way of modeling c1: x.TPx (quad_form)\n",
    "# http://www.cvxpy.org/en/latest/tutorial/functions/index.html#scalar-functions"
   ]
  },
  {
   "cell_type": "code",
   "execution_count": 45,
   "metadata": {
    "collapsed": false
   },
   "outputs": [],
   "source": [
    "c1 = (cvxpy.quad_form(h1-b, V)  <= 0.01**2)"
   ]
  },
  {
   "cell_type": "code",
   "execution_count": 46,
   "metadata": {
    "collapsed": false
   },
   "outputs": [],
   "source": [
    "prob = cvxpy.Problem(obj_func, [c1, c2, c3])"
   ]
  },
  {
   "cell_type": "code",
   "execution_count": 47,
   "metadata": {
    "collapsed": false
   },
   "outputs": [
    {
     "data": {
      "text/plain": [
       "0.00046098404150142746"
      ]
     },
     "execution_count": 47,
     "metadata": {},
     "output_type": "execute_result"
    }
   ],
   "source": [
    "prob.solve()"
   ]
  },
  {
   "cell_type": "code",
   "execution_count": 48,
   "metadata": {
    "collapsed": false
   },
   "outputs": [
    {
     "name": "stdout",
     "output_type": "stream",
     "text": [
      "[[  4.10738034e-01]\n",
      " [  1.81491983e-01]\n",
      " [  2.93000000e-01]\n",
      " [  2.29565026e-08]\n",
      " [  4.60000000e-02]\n",
      " [  6.87699610e-02]]\n"
     ]
    }
   ],
   "source": [
    "print(h1.value)"
   ]
  },
  {
   "cell_type": "code",
   "execution_count": 44,
   "metadata": {
    "collapsed": false
   },
   "outputs": [
    {
     "name": "stdout",
     "output_type": "stream",
     "text": [
      "[[ 0.35174259  0.11499825  0.25154159  0.02742825  0.00605838  0.00915738]]\n"
     ]
    }
   ],
   "source": [
    "print(np.dot(abs(h1.value-h0).T,TC))"
   ]
  },
  {
   "cell_type": "code",
   "execution_count": 34,
   "metadata": {
    "collapsed": false
   },
   "outputs": [
    {
     "data": {
      "text/plain": [
       "array([ 0.003,  0.005,  0.025,  0.003,  1.   ,  0.003])"
      ]
     },
     "execution_count": 34,
     "metadata": {},
     "output_type": "execute_result"
    }
   ],
   "source": [
    "TC"
   ]
  },
  {
   "cell_type": "code",
   "execution_count": 49,
   "metadata": {
    "collapsed": true
   },
   "outputs": [],
   "source": [
    "x = h1.value"
   ]
  },
  {
   "cell_type": "code",
   "execution_count": 50,
   "metadata": {
    "collapsed": false
   },
   "outputs": [
    {
     "data": {
      "text/plain": [
       "matrix([[  4.10738034e-01],\n",
       "        [  1.81491983e-01],\n",
       "        [  2.93000000e-01],\n",
       "        [  2.29565026e-08],\n",
       "        [  4.60000000e-02],\n",
       "        [  6.87699610e-02]])"
      ]
     },
     "execution_count": 50,
     "metadata": {},
     "output_type": "execute_result"
    }
   ],
   "source": [
    "x"
   ]
  },
  {
   "cell_type": "code",
   "execution_count": 51,
   "metadata": {
    "collapsed": false
   },
   "outputs": [
    {
     "data": {
      "text/plain": [
       "array([ 0.003,  0.005,  0.025,  0.003,  1.   ,  0.003])"
      ]
     },
     "execution_count": 51,
     "metadata": {},
     "output_type": "execute_result"
    }
   ],
   "source": [
    "TC"
   ]
  },
  {
   "cell_type": "code",
   "execution_count": 53,
   "metadata": {
    "collapsed": false
   },
   "outputs": [],
   "source": [
    "tc2 = np.copy(TC)"
   ]
  },
  {
   "cell_type": "code",
   "execution_count": 54,
   "metadata": {
    "collapsed": true
   },
   "outputs": [],
   "source": [
    "tc2[4] = 0"
   ]
  },
  {
   "cell_type": "code",
   "execution_count": 55,
   "metadata": {
    "collapsed": false
   },
   "outputs": [
    {
     "data": {
      "text/plain": [
       "array([ 0.003,  0.005,  0.025,  0.003,  0.   ,  0.003])"
      ]
     },
     "execution_count": 55,
     "metadata": {},
     "output_type": "execute_result"
    }
   ],
   "source": [
    "tc2"
   ]
  },
  {
   "cell_type": "code",
   "execution_count": 60,
   "metadata": {
    "collapsed": false
   },
   "outputs": [],
   "source": [
    "diff = abs(x-h0)"
   ]
  },
  {
   "cell_type": "code",
   "execution_count": 62,
   "metadata": {
    "collapsed": false
   },
   "outputs": [
    {
     "data": {
      "text/plain": [
       "array([ 0.39 ,  0.158,  0.293,  0.068,  0.046,  0.043])"
      ]
     },
     "execution_count": 62,
     "metadata": {},
     "output_type": "execute_result"
    }
   ],
   "source": [
    "h0"
   ]
  },
  {
   "cell_type": "code",
   "execution_count": 65,
   "metadata": {
    "collapsed": false
   },
   "outputs": [],
   "source": [
    "diff = abs(x - df['weight'].values)"
   ]
  },
  {
   "cell_type": "code",
   "execution_count": 68,
   "metadata": {
    "collapsed": false
   },
   "outputs": [
    {
     "data": {
      "text/plain": [
       "matrix([[  4.10738034e-01,   1.81491983e-01,   2.93000000e-01,\n",
       "           2.29565026e-08,   4.60000000e-02,   6.87699610e-02]])"
      ]
     },
     "execution_count": 68,
     "metadata": {},
     "output_type": "execute_result"
    }
   ],
   "source": [
    "x.transpose()"
   ]
  },
  {
   "cell_type": "code",
   "execution_count": 69,
   "metadata": {
    "collapsed": false
   },
   "outputs": [
    {
     "data": {
      "text/plain": [
       "matrix([[  2.07380339e-02,   2.34919826e-02,  -4.02100742e-10,\n",
       "          -6.79999770e-02,  -8.00054467e-14,   2.57699610e-02]])"
      ]
     },
     "execution_count": 69,
     "metadata": {},
     "output_type": "execute_result"
    }
   ],
   "source": [
    "x.transpose()-h0"
   ]
  },
  {
   "cell_type": "code",
   "execution_count": 73,
   "metadata": {
    "collapsed": false
   },
   "outputs": [
    {
     "data": {
      "text/plain": [
       "matrix([[ 0.00046098]])"
      ]
     },
     "execution_count": 73,
     "metadata": {},
     "output_type": "execute_result"
    }
   ],
   "source": [
    "np.dot(abs((x.transpose()-h0)),tc2)"
   ]
  },
  {
   "cell_type": "code",
   "execution_count": null,
   "metadata": {
    "collapsed": true
   },
   "outputs": [],
   "source": [
    "0.00046098"
   ]
  }
 ],
 "metadata": {
  "kernelspec": {
   "display_name": "Python 3",
   "language": "python",
   "name": "python3"
  },
  "language_info": {
   "codemirror_mode": {
    "name": "ipython",
    "version": 3
   },
   "file_extension": ".py",
   "mimetype": "text/x-python",
   "name": "python",
   "nbconvert_exporter": "python",
   "pygments_lexer": "ipython3",
   "version": "3.5.2"
  }
 },
 "nbformat": 4,
 "nbformat_minor": 1
}
